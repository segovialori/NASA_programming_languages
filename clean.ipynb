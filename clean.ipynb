{
 "cells": [
  {
   "cell_type": "markdown",
   "metadata": {},
   "source": [
    "# Predicting Programming Languages From NASA's README's"
   ]
  },
  {
   "cell_type": "markdown",
   "metadata": {},
   "source": [
    "### Imports"
   ]
  },
  {
   "cell_type": "code",
   "execution_count": 23,
   "metadata": {},
   "outputs": [],
   "source": [
    "import wrangle as w\n",
    "\n",
    "%matplotlib inline\n",
    "import matplotlib.pyplot as plt\n",
    "import seaborn as sns\n",
    "import pandas as pd\n",
    "\n",
    "import re\n",
    "import unicodedata\n",
    "import nltk\n",
    "from nltk.tokenize.toktok import ToktokTokenizer\n",
    "from nltk.corpus import stopwords\n",
    "\n",
    "import matplotlib.style as style \n",
    "style.available\n",
    "style.use('seaborn-talk') #sets the size of the charts\n",
    "style.use('seaborn-colorblind') #sets color of charts"
   ]
  },
  {
   "cell_type": "markdown",
   "metadata": {},
   "source": [
    "### Acquire"
   ]
  },
  {
   "cell_type": "code",
   "execution_count": 2,
   "metadata": {},
   "outputs": [
    {
     "data": {
      "text/html": [
       "<div>\n",
       "<style scoped>\n",
       "    .dataframe tbody tr th:only-of-type {\n",
       "        vertical-align: middle;\n",
       "    }\n",
       "\n",
       "    .dataframe tbody tr th {\n",
       "        vertical-align: top;\n",
       "    }\n",
       "\n",
       "    .dataframe thead th {\n",
       "        text-align: right;\n",
       "    }\n",
       "</style>\n",
       "<table border=\"1\" class=\"dataframe\">\n",
       "  <thead>\n",
       "    <tr style=\"text-align: right;\">\n",
       "      <th></th>\n",
       "      <th>repo</th>\n",
       "      <th>language</th>\n",
       "      <th>readme_contents</th>\n",
       "    </tr>\n",
       "  </thead>\n",
       "  <tbody>\n",
       "    <tr>\n",
       "      <th>0</th>\n",
       "      <td>nasa/cumulus</td>\n",
       "      <td>JavaScript</td>\n",
       "      <td># Cumulus Framework\\n\\n[![npm version](https:/...</td>\n",
       "    </tr>\n",
       "    <tr>\n",
       "      <th>1</th>\n",
       "      <td>nasa/openmct</td>\n",
       "      <td>JavaScript</td>\n",
       "      <td># Open MCT [![license](https://img.shields.io/...</td>\n",
       "    </tr>\n",
       "    <tr>\n",
       "      <th>2</th>\n",
       "      <td>nasa/astrobee_android</td>\n",
       "      <td>Java</td>\n",
       "      <td># Astrobee Robot Software - Android submodule\\...</td>\n",
       "    </tr>\n",
       "    <tr>\n",
       "      <th>3</th>\n",
       "      <td>nasa/astrobee</td>\n",
       "      <td>C++</td>\n",
       "      <td># Astrobee Robot Software\\n\\n### About\\n\\n&lt;p&gt;\\...</td>\n",
       "    </tr>\n",
       "    <tr>\n",
       "      <th>4</th>\n",
       "      <td>nasa/earthdata-search</td>\n",
       "      <td>JavaScript</td>\n",
       "      <td># [Earthdata Search](https://search.earthdata....</td>\n",
       "    </tr>\n",
       "    <tr>\n",
       "      <th>5</th>\n",
       "      <td>nasa/daa-displays</td>\n",
       "      <td>TypeScript</td>\n",
       "      <td># DAA-Displays: A Toolkit for the Analysis of ...</td>\n",
       "    </tr>\n",
       "    <tr>\n",
       "      <th>6</th>\n",
       "      <td>nasa/code-nasa-gov</td>\n",
       "      <td>CSS</td>\n",
       "      <td># CODE.NASA.GOV\\n\\n[![Build Status](https://tr...</td>\n",
       "    </tr>\n",
       "    <tr>\n",
       "      <th>7</th>\n",
       "      <td>nasa/cumulus-orca</td>\n",
       "      <td>Python</td>\n",
       "      <td>## Clone and build Operational Recovery Cloud ...</td>\n",
       "    </tr>\n",
       "    <tr>\n",
       "      <th>8</th>\n",
       "      <td>nasa/dorado-scheduling</td>\n",
       "      <td>Python</td>\n",
       "      <td># Dorado observation planning and scheduling s...</td>\n",
       "    </tr>\n",
       "    <tr>\n",
       "      <th>9</th>\n",
       "      <td>nasa/cFS</td>\n",
       "      <td>CMake</td>\n",
       "      <td>[![Build Status](https://travis-ci.com/nasa/cF...</td>\n",
       "    </tr>\n",
       "  </tbody>\n",
       "</table>\n",
       "</div>"
      ],
      "text/plain": [
       "                     repo    language  \\\n",
       "0            nasa/cumulus  JavaScript   \n",
       "1            nasa/openmct  JavaScript   \n",
       "2   nasa/astrobee_android        Java   \n",
       "3           nasa/astrobee         C++   \n",
       "4   nasa/earthdata-search  JavaScript   \n",
       "5       nasa/daa-displays  TypeScript   \n",
       "6      nasa/code-nasa-gov         CSS   \n",
       "7       nasa/cumulus-orca      Python   \n",
       "8  nasa/dorado-scheduling      Python   \n",
       "9                nasa/cFS       CMake   \n",
       "\n",
       "                                     readme_contents  \n",
       "0  # Cumulus Framework\\n\\n[![npm version](https:/...  \n",
       "1  # Open MCT [![license](https://img.shields.io/...  \n",
       "2  # Astrobee Robot Software - Android submodule\\...  \n",
       "3  # Astrobee Robot Software\\n\\n### About\\n\\n<p>\\...  \n",
       "4  # [Earthdata Search](https://search.earthdata....  \n",
       "5  # DAA-Displays: A Toolkit for the Analysis of ...  \n",
       "6  # CODE.NASA.GOV\\n\\n[![Build Status](https://tr...  \n",
       "7  ## Clone and build Operational Recovery Cloud ...  \n",
       "8  # Dorado observation planning and scheduling s...  \n",
       "9  [![Build Status](https://travis-ci.com/nasa/cF...  "
      ]
     },
     "execution_count": 2,
     "metadata": {},
     "output_type": "execute_result"
    }
   ],
   "source": [
    "#acquire the data\n",
    "df = w.get_nasa()\n",
    "df.head(10)"
   ]
  },
  {
   "cell_type": "code",
   "execution_count": 3,
   "metadata": {},
   "outputs": [
    {
     "data": {
      "text/plain": [
       "(291, 3)"
      ]
     },
     "execution_count": 3,
     "metadata": {},
     "output_type": "execute_result"
    }
   ],
   "source": [
    "#shape of the dataset\n",
    "df.shape"
   ]
  },
  {
   "cell_type": "code",
   "execution_count": 4,
   "metadata": {},
   "outputs": [
    {
     "name": "stdout",
     "output_type": "stream",
     "text": [
      "<class 'pandas.core.frame.DataFrame'>\n",
      "RangeIndex: 291 entries, 0 to 290\n",
      "Data columns (total 3 columns):\n",
      " #   Column           Non-Null Count  Dtype \n",
      "---  ------           --------------  ----- \n",
      " 0   repo             291 non-null    object\n",
      " 1   language         275 non-null    object\n",
      " 2   readme_contents  283 non-null    object\n",
      "dtypes: object(3)\n",
      "memory usage: 6.9+ KB\n"
     ]
    }
   ],
   "source": [
    "# columns and data type summary\n",
    "df.info()"
   ]
  },
  {
   "cell_type": "code",
   "execution_count": 5,
   "metadata": {},
   "outputs": [
    {
     "data": {
      "text/html": [
       "<div>\n",
       "<style scoped>\n",
       "    .dataframe tbody tr th:only-of-type {\n",
       "        vertical-align: middle;\n",
       "    }\n",
       "\n",
       "    .dataframe tbody tr th {\n",
       "        vertical-align: top;\n",
       "    }\n",
       "\n",
       "    .dataframe thead th {\n",
       "        text-align: right;\n",
       "    }\n",
       "</style>\n",
       "<table border=\"1\" class=\"dataframe\">\n",
       "  <thead>\n",
       "    <tr style=\"text-align: right;\">\n",
       "      <th></th>\n",
       "      <th>repo</th>\n",
       "      <th>language</th>\n",
       "      <th>readme_contents</th>\n",
       "    </tr>\n",
       "  </thead>\n",
       "  <tbody>\n",
       "    <tr>\n",
       "      <th>count</th>\n",
       "      <td>291</td>\n",
       "      <td>275</td>\n",
       "      <td>283</td>\n",
       "    </tr>\n",
       "    <tr>\n",
       "      <th>unique</th>\n",
       "      <td>291</td>\n",
       "      <td>36</td>\n",
       "      <td>282</td>\n",
       "    </tr>\n",
       "    <tr>\n",
       "      <th>top</th>\n",
       "      <td>nasa/prog_models</td>\n",
       "      <td>Python</td>\n",
       "      <td>Installation\\n============\\n\\nRequirements\\n~~...</td>\n",
       "    </tr>\n",
       "    <tr>\n",
       "      <th>freq</th>\n",
       "      <td>1</td>\n",
       "      <td>67</td>\n",
       "      <td>2</td>\n",
       "    </tr>\n",
       "  </tbody>\n",
       "</table>\n",
       "</div>"
      ],
      "text/plain": [
       "                    repo language  \\\n",
       "count                291      275   \n",
       "unique               291       36   \n",
       "top     nasa/prog_models   Python   \n",
       "freq                   1       67   \n",
       "\n",
       "                                          readme_contents  \n",
       "count                                                 283  \n",
       "unique                                                282  \n",
       "top     Installation\\n============\\n\\nRequirements\\n~~...  \n",
       "freq                                                    2  "
      ]
     },
     "execution_count": 5,
     "metadata": {},
     "output_type": "execute_result"
    }
   ],
   "source": [
    "#summary stats\n",
    "df.describe()"
   ]
  },
  {
   "cell_type": "code",
   "execution_count": 7,
   "metadata": {},
   "outputs": [
    {
     "data": {
      "text/plain": [
       "repo                0\n",
       "language           16\n",
       "readme_contents     8\n",
       "dtype: int64"
      ]
     },
     "execution_count": 7,
     "metadata": {},
     "output_type": "execute_result"
    }
   ],
   "source": [
    "#check out nulls in dataset\n",
    "df.isna().sum()"
   ]
  },
  {
   "cell_type": "code",
   "execution_count": 43,
   "metadata": {},
   "outputs": [
    {
     "data": {
      "text/plain": [
       "Python              24.444444\n",
       "C                   17.037037\n",
       "C++                 13.703704\n",
       "JavaScript           7.777778\n",
       "Java                 4.814815\n",
       "HTML                 4.814815\n",
       "Jupyter Notebook     4.074074\n",
       "MATLAB               3.333333\n",
       "Fortran              2.222222\n",
       "CSS                  1.851852\n",
       "Ruby                 1.851852\n",
       "PHP                  1.111111\n",
       "TypeScript           1.111111\n",
       "Perl                 1.111111\n",
       "IDL                  1.111111\n",
       "R                    1.111111\n",
       "Shell                1.111111\n",
       "CMake                0.740741\n",
       "Matlab               0.740741\n",
       "HCL                  0.370370\n",
       "FORTRAN              0.370370\n",
       "GLSL                 0.370370\n",
       "Emacs Lisp           0.370370\n",
       "Clojure              0.370370\n",
       "C#                   0.370370\n",
       "Common Lisp          0.370370\n",
       "Haskell              0.370370\n",
       "Limbo                0.370370\n",
       "Mathematica          0.370370\n",
       "Prolog               0.370370\n",
       "OCaml                0.370370\n",
       "OpenEdge ABL         0.370370\n",
       "TeX                  0.370370\n",
       "SCSS                 0.370370\n",
       "PLSQL                0.370370\n",
       "Name: language, dtype: float64"
      ]
     },
     "execution_count": 43,
     "metadata": {},
     "output_type": "execute_result"
    }
   ],
   "source": [
    "#check out the percentage of each programming language\n",
    "df.language.value_counts(normalize=True) * 100"
   ]
  },
  {
   "cell_type": "code",
   "execution_count": 41,
   "metadata": {},
   "outputs": [
    {
     "data": {
      "text/plain": [
       "[]"
      ]
     },
     "execution_count": 41,
     "metadata": {},
     "output_type": "execute_result"
    },
    {
     "data": {
      "image/png": "[encoded data removed]",
      "text/plain": [
       "<Figure size 748.8x514.8 with 1 Axes>"
      ]
     },
     "metadata": {
      "needs_background": "light"
     },
     "output_type": "display_data"
    }
   ],
   "source": [
    "#histograms of different programming languages used\n",
    "df.language.hist()\n",
    "plt.title('Programming Languages in NASA Repository READMEs')\n",
    "plt.xlabel('Programming Languages')\n",
    "plt.ylabel('Number of READMEs')\n",
    "plt.xticks(rotation = 80)\n",
    "plt.plot()"
   ]
  },
  {
   "cell_type": "markdown",
   "metadata": {},
   "source": [
    "#### add acquire summary"
   ]
  },
  {
   "cell_type": "markdown",
   "metadata": {},
   "source": [
    "### Prepare"
   ]
  },
  {
   "cell_type": "code",
   "execution_count": 8,
   "metadata": {},
   "outputs": [],
   "source": [
    "df.dropna(inplace=True)"
   ]
  },
  {
   "cell_type": "code",
   "execution_count": 9,
   "metadata": {},
   "outputs": [
    {
     "data": {
      "text/plain": [
       "repo               0\n",
       "language           0\n",
       "readme_contents    0\n",
       "dtype: int64"
      ]
     },
     "execution_count": 9,
     "metadata": {},
     "output_type": "execute_result"
    }
   ],
   "source": [
    "df.isna().sum()"
   ]
  },
  {
   "cell_type": "code",
   "execution_count": 10,
   "metadata": {},
   "outputs": [
    {
     "name": "stdout",
     "output_type": "stream",
     "text": [
      "<class 'pandas.core.frame.DataFrame'>\n",
      "Int64Index: 270 entries, 0 to 290\n",
      "Data columns (total 3 columns):\n",
      " #   Column           Non-Null Count  Dtype \n",
      "---  ------           --------------  ----- \n",
      " 0   repo             270 non-null    object\n",
      " 1   language         270 non-null    object\n",
      " 2   readme_contents  270 non-null    object\n",
      "dtypes: object(3)\n",
      "memory usage: 8.4+ KB\n"
     ]
    }
   ],
   "source": [
    "df.info()"
   ]
  },
  {
   "cell_type": "code",
   "execution_count": 11,
   "metadata": {},
   "outputs": [
    {
     "data": {
      "text/plain": [
       "\"# Cumulus Framework\\n\\n[![npm version](https://badge.fury.io/js/%40cumulus%2Fapi.svg)](https://badge.fury.io/js/%40cumulus%2Fapi)\\n[![Coverage Status](https://coveralls.io/repos/github/nasa/cumulus/badge.svg?branch=master)](https://coveralls.io/github/nasa/cumulus?branch=master)\\n\\n## 📖 Documentation\\n\\n- Documentation for the latest [released version](https://nasa.github.io/cumulus).\\n- Documentation for the [unreleased work](https://nasa.github.io/cumulus/docs/next/cumulus-docs-readme).\\n\\n## More Information\\n\\nFor more information about this project of more about NASA's Earth Observing System Data and Information System (EOSDIS) and its cloud work, please contact [Katie Baynes](mailto:katie.baynes@nasa.gov) or visit us at https://earthdata.nasa.gov.\\n\\n# 🔨 Development\\n\\nThe Cumulus core repo is a [monorepo](https://en.wikipedia.org/wiki/Monorepo)\\nmanaged by [Lerna](https://lerna.js.org/). Lerna is responsible for installing\\nthe dependencies of the packages and tasks that belong in this repo. In general,\\nCumulus's npm packages can be found in the [packages](./packages) directory, and\\nworkflow tasks can be found in the [tasks](./tasks) directory.\\n\\nTo help cut down on the time and disk space required to install the dependencies\\nof the packages in this monorepo, all `devDependencies` are defined in the\\ntop-level [package.json](./package.json). The\\n[Node module resolution algorithm](https://nodejs.org/api/modules.html#modules_loading_from_node_modules_folders)\\nallows all of the packages and tasks to find their dev dependencies in that\\ntop-level `node_modules` directory.\\n\\nTL;DR - If you need to add a `devDependency` to a package, add it to the\\ntop-level [package.json](./package.json) file, not the `package.json` associated\\nwith an individual package.\\n\\n## Installation\\n\\nThis is for installation for Cumulus development.  See the [Cumulus deployment instructions](https://nasa.github.io/cumulus/docs/deployment/deployment-readme) for instructions on deploying the released Cumulus packages.\\n\\n### Prerequisites\\n\\n- [NVM](https://github.com/creationix/nvm) and node version 12.18\\n- [AWS CLI](http://docs.aws.amazon.com/cli/latest/userguide/installing.html)\\n- BASH\\n- Docker (only required for testing)\\n- docker-compose (only required for testing `pip install docker-compose`)\\n- Python 3.6+\\n- [pipenv](https://pypi.org/project/pipenv/)\\n\\nInstall the correct node version:\\n\\n```bash\\nnvm install\\nnvm use\\n```\\n\\n### Install Lerna\\n\\nWe use Lerna to manage multiple Cumulus packages in the same repo. You need to install lerna as a global module first:\\n\\n    $ npm install -g lerna\\n\\n### Install Local Dependencies\\n\\nWe use npm for local package management\\n\\n    $ npm install\\n    $ npm run bootstrap\\n\\nBuilding All packages:\\n\\n    $ npm run build\\n\\nBuild and watch packages:\\n\\n    $ npm run watch\\n\\n## Running the Cumulus APIs locally\\n\\nStart the API:\\n\\n    $ npm run serve\\n\\nOr start the distribution API:\\n\\n    $ npm run serve-dist\\n\\nSee the [API package documentation](packages/api/README.md#running-the-api-locally) for more options.\\n\\n## 📝 Tests\\n\\n### Unit Tests\\n\\n#### LocalStack\\n\\n[LocalStack](https://github.com/localstack/localstack) provides local versions of most AWS services for testing.\\n\\nThe LocalStack repository has [installation instructions](https://github.com/localstack/localstack#installing).\\n\\nLocalstack is included in the docker-compose file. You only need to run the docker-compose command in the next section in order to use it with your tests.\\n\\n#### Docker containers\\n\\nTurn on the docker containers first:\\n\\n    $ npm run start-unit-test-stack\\n\\nStop localstack/unit test services:\\n\\n    $ npm run stop-unit-test-stack\\n\\n#### Run database migrations\\n\\n```\\n$ npm run db:local:migrate\\n```\\n\\n#### Run tests\\n\\nRun the test commands next\\n```\\n    $ export LOCAL_ES_HOST=127.0.0.1\\n    $ export LOCALSTACK_HOST=127.0.0.1\\n    $ npm test\\n```\\n\\n### Integration Tests\\n\\nFor more information please [read this](docs/development/integration-tests.md).\\n\\n### Running tests via VS Code debugger\\n\\nCopy the `.vscode.example` directory to `.vscode` to create your debugger launch configuration. Refer to the [VS Code documentation on how to use the debugger](https://code.visualstudio.com/docs/editor/debugging).\\n\\n## 🔦 Code Coverage and Quality\\n\\nFor more information please [read this](docs/development/quality-and-coverage.md).\\n\\n## 📦 Adding New Packages\\n\\nCreate a new folder under `packages` if it is a common library or create folder under `cumulus/tasks` if it is a lambda task. `cd` to the folder and run `npm init`.\\n\\nMake sure to name the package as `@cumulus/package-name`.\\n\\n## Running command in all package folders\\n\\n    $ lerna exec -- rm -rf ./package-lock.json\\n\\n## Cleaning Up all the repos\\n\\n    $ npm run clean\\n\\n## Contribution\\n\\nPlease refer to: https://github.com/nasa/cumulus/blob/master/CONTRIBUTING.md for more information.\\n\\n## 🛒 Release\\n\\nTo release a new version of cumulus [read this](docs/development/release.md).\\n\""
      ]
     },
     "execution_count": 11,
     "metadata": {},
     "output_type": "execute_result"
    }
   ],
   "source": [
    "df.readme_contents[0]"
   ]
  },
  {
   "cell_type": "code",
   "execution_count": 12,
   "metadata": {},
   "outputs": [],
   "source": [
    "df.readme_contents = df.readme_contents.apply(w.clean)"
   ]
  },
  {
   "cell_type": "code",
   "execution_count": 13,
   "metadata": {},
   "outputs": [
    {
     "data": {
      "text/html": [
       "<div>\n",
       "<style scoped>\n",
       "    .dataframe tbody tr th:only-of-type {\n",
       "        vertical-align: middle;\n",
       "    }\n",
       "\n",
       "    .dataframe tbody tr th {\n",
       "        vertical-align: top;\n",
       "    }\n",
       "\n",
       "    .dataframe thead th {\n",
       "        text-align: right;\n",
       "    }\n",
       "</style>\n",
       "<table border=\"1\" class=\"dataframe\">\n",
       "  <thead>\n",
       "    <tr style=\"text-align: right;\">\n",
       "      <th></th>\n",
       "      <th>repo</th>\n",
       "      <th>language</th>\n",
       "      <th>readme_contents</th>\n",
       "    </tr>\n",
       "  </thead>\n",
       "  <tbody>\n",
       "    <tr>\n",
       "      <th>0</th>\n",
       "      <td>nasa/cumulus</td>\n",
       "      <td>JavaScript</td>\n",
       "      <td>cumulus framework npm versionhttpsbadgefuryioj...</td>\n",
       "    </tr>\n",
       "    <tr>\n",
       "      <th>1</th>\n",
       "      <td>nasa/openmct</td>\n",
       "      <td>JavaScript</td>\n",
       "      <td>open mct licensehttpsimgshieldsiobadgelicensea...</td>\n",
       "    </tr>\n",
       "    <tr>\n",
       "      <th>2</th>\n",
       "      <td>nasa/astrobee_android</td>\n",
       "      <td>Java</td>\n",
       "      <td>astrobee robot software android submodule astr...</td>\n",
       "    </tr>\n",
       "    <tr>\n",
       "      <th>3</th>\n",
       "      <td>nasa/astrobee</td>\n",
       "      <td>C++</td>\n",
       "      <td>astrobee robot software p img srcdocimagesastr...</td>\n",
       "    </tr>\n",
       "    <tr>\n",
       "      <th>4</th>\n",
       "      <td>nasa/earthdata-search</td>\n",
       "      <td>JavaScript</td>\n",
       "      <td>earthdata searchhttpssearchearthdatanasagov se...</td>\n",
       "    </tr>\n",
       "  </tbody>\n",
       "</table>\n",
       "</div>"
      ],
      "text/plain": [
       "                    repo    language  \\\n",
       "0           nasa/cumulus  JavaScript   \n",
       "1           nasa/openmct  JavaScript   \n",
       "2  nasa/astrobee_android        Java   \n",
       "3          nasa/astrobee         C++   \n",
       "4  nasa/earthdata-search  JavaScript   \n",
       "\n",
       "                                     readme_contents  \n",
       "0  cumulus framework npm versionhttpsbadgefuryioj...  \n",
       "1  open mct licensehttpsimgshieldsiobadgelicensea...  \n",
       "2  astrobee robot software android submodule astr...  \n",
       "3  astrobee robot software p img srcdocimagesastr...  \n",
       "4  earthdata searchhttpssearchearthdatanasagov se...  "
      ]
     },
     "execution_count": 13,
     "metadata": {},
     "output_type": "execute_result"
    }
   ],
   "source": [
    "df.head()"
   ]
  },
  {
   "cell_type": "code",
   "execution_count": 14,
   "metadata": {},
   "outputs": [
    {
     "data": {
      "text/plain": [
       "'cumulus framework npm versionhttpsbadgefuryiojs40cumulus2fapisvghttpsbadgefuryiojs40cumulus2fapi coverage statushttpscoverallsioreposgithubnasacumulusbadgesvgbranchmasterhttpscoverallsiogithubnasacumulusbranchmaster documentation documentation latest released versionhttpsnasagithubiocumulus documentation unreleased workhttpsnasagithubiocumulusdocsnextcumulusdocsreadme information information project nasa earth observing system data information system eosdis cloud work please contact katie baynesmailtokatiebaynesnasagov visit u httpsearthdatanasagov development cumulus core repo monorepohttpsenwikipediaorgwikimonorepo managed lernahttpslernajsorg lerna responsible installing dependency package task belong repo general cumulus npm package found packagespackages directory workflow task found taskstasks directory help cut time disk space required install dependency package monorepo devdependencies defined toplevel packagejsonpackagejson node module resolution algorithmhttpsnodejsorgapimoduleshtmlmodules_loading_from_node_modules_folders allows package task find dev dependency toplevel node_modules directory tldr need add devdependency package add toplevel packagejsonpackagejson file packagejson associated individual package installation installation cumulus development see cumulus deployment instructionshttpsnasagithubiocumulusdocsdeploymentdeploymentreadme instruction deploying released cumulus package prerequisite nvmhttpsgithubcomcreationixnvm node version 1218 aws clihttpdocsawsamazoncomclilatestuserguideinstallinghtml bash docker required testing dockercompose required testing pip install dockercompose python 36 pipenvhttpspypiorgprojectpipenv install correct node version bash nvm install nvm use install lerna use lerna manage multiple cumulus package repo need install lerna global module first npm install g lerna install local dependency use npm local package management npm install npm run bootstrap building package npm run build build watch package npm run watch running cumulus apis locally start api npm run serve start distribution api npm run servedist see api package documentationpackagesapireadmemdrunningtheapilocally option test unit test localstack localstackhttpsgithubcomlocalstacklocalstack provides local version aws service testing localstack repository installation instructionshttpsgithubcomlocalstacklocalstackinstalling localstack included dockercompose file need run dockercompose command next section order use test docker container turn docker container first npm run startunitteststack stop localstackunit test service npm run stopunitteststack run database migration npm run dblocalmigrate run test run test command next export local_es_host127001 export localstack_host127001 npm test integration test information please read thisdocsdevelopmentintegrationtestsmd running test via v code debugger copy vscodeexample directory vscode create debugger launch configuration refer v code documentation use debuggerhttpscodevisualstudiocomdocseditordebugging code coverage quality information please read thisdocsdevelopmentqualityandcoveragemd adding new package create new folder package common library create folder cumulustasks lambda task cd folder run npm init make sure name package cumuluspackagename running command package folder lerna exec rm rf packagelockjson cleaning repos npm run clean contribution please refer httpsgithubcomnasacumulusblobmastercontributingmd information release release new version cumulus read thisdocsdevelopmentreleasemd'"
      ]
     },
     "execution_count": 14,
     "metadata": {},
     "output_type": "execute_result"
    }
   ],
   "source": [
    "df.readme_contents[0]"
   ]
  },
  {
   "cell_type": "markdown",
   "metadata": {},
   "source": [
    "### Explore"
   ]
  },
  {
   "cell_type": "code",
   "execution_count": 49,
   "metadata": {},
   "outputs": [
    {
     "data": {
      "text/plain": [
       "Python              66\n",
       "C                   46\n",
       "C++                 37\n",
       "JavaScript          21\n",
       "Java                13\n",
       "HTML                13\n",
       "Jupyter Notebook    11\n",
       "MATLAB               9\n",
       "Fortran              6\n",
       "CSS                  5\n",
       "Ruby                 5\n",
       "PHP                  3\n",
       "TypeScript           3\n",
       "Perl                 3\n",
       "IDL                  3\n",
       "R                    3\n",
       "Shell                3\n",
       "CMake                2\n",
       "Matlab               2\n",
       "HCL                  1\n",
       "FORTRAN              1\n",
       "GLSL                 1\n",
       "Emacs Lisp           1\n",
       "Clojure              1\n",
       "C#                   1\n",
       "Common Lisp          1\n",
       "Haskell              1\n",
       "Limbo                1\n",
       "Mathematica          1\n",
       "Prolog               1\n",
       "OCaml                1\n",
       "OpenEdge ABL         1\n",
       "TeX                  1\n",
       "SCSS                 1\n",
       "PLSQL                1\n",
       "Name: language, dtype: int64"
      ]
     },
     "execution_count": 49,
     "metadata": {},
     "output_type": "execute_result"
    }
   ],
   "source": [
    "#look at readmes by language\n",
    "df.language.value_counts()"
   ]
  },
  {
   "cell_type": "code",
   "execution_count": 51,
   "metadata": {},
   "outputs": [
    {
     "data": {
      "text/html": [
       "<div>\n",
       "<style scoped>\n",
       "    .dataframe tbody tr th:only-of-type {\n",
       "        vertical-align: middle;\n",
       "    }\n",
       "\n",
       "    .dataframe tbody tr th {\n",
       "        vertical-align: top;\n",
       "    }\n",
       "\n",
       "    .dataframe thead th {\n",
       "        text-align: right;\n",
       "    }\n",
       "</style>\n",
       "<table border=\"1\" class=\"dataframe\">\n",
       "  <thead>\n",
       "    <tr style=\"text-align: right;\">\n",
       "      <th></th>\n",
       "      <th>repo</th>\n",
       "      <th>language</th>\n",
       "      <th>readme_contents</th>\n",
       "    </tr>\n",
       "  </thead>\n",
       "  <tbody>\n",
       "    <tr>\n",
       "      <th>7</th>\n",
       "      <td>nasa/cumulus-orca</td>\n",
       "      <td>Python</td>\n",
       "      <td>clone build operational recovery cloud archive...</td>\n",
       "    </tr>\n",
       "    <tr>\n",
       "      <th>8</th>\n",
       "      <td>nasa/dorado-scheduling</td>\n",
       "      <td>Python</td>\n",
       "      <td>dorado observation planning scheduling simulat...</td>\n",
       "    </tr>\n",
       "    <tr>\n",
       "      <th>22</th>\n",
       "      <td>nasa/delta</td>\n",
       "      <td>Python</td>\n",
       "      <td>delta deep earth learning tool analysis framew...</td>\n",
       "    </tr>\n",
       "    <tr>\n",
       "      <th>31</th>\n",
       "      <td>nasa/harmony-py</td>\n",
       "      <td>Python</td>\n",
       "      <td>harmonypy harmonypy python library integrating...</td>\n",
       "    </tr>\n",
       "    <tr>\n",
       "      <th>32</th>\n",
       "      <td>nasa/zarr-eosdis-store</td>\n",
       "      <td>Python</td>\n",
       "      <td>zarreosdisstore zarreosdisstore library allows...</td>\n",
       "    </tr>\n",
       "  </tbody>\n",
       "</table>\n",
       "</div>"
      ],
      "text/plain": [
       "                      repo language  \\\n",
       "7        nasa/cumulus-orca   Python   \n",
       "8   nasa/dorado-scheduling   Python   \n",
       "22              nasa/delta   Python   \n",
       "31         nasa/harmony-py   Python   \n",
       "32  nasa/zarr-eosdis-store   Python   \n",
       "\n",
       "                                      readme_contents  \n",
       "7   clone build operational recovery cloud archive...  \n",
       "8   dorado observation planning scheduling simulat...  \n",
       "22  delta deep earth learning tool analysis framew...  \n",
       "31  harmonypy harmonypy python library integrating...  \n",
       "32  zarreosdisstore zarreosdisstore library allows...  "
      ]
     },
     "execution_count": 51,
     "metadata": {},
     "output_type": "execute_result"
    }
   ],
   "source": [
    "#python df\n",
    "python = df[df.language == 'Python']\n",
    "python.head()"
   ]
  },
  {
   "cell_type": "code",
   "execution_count": null,
   "metadata": {},
   "outputs": [],
   "source": []
  },
  {
   "cell_type": "code",
   "execution_count": 46,
   "metadata": {},
   "outputs": [
    {
     "data": {
      "text/plain": [
       "pandas.core.series.Series"
      ]
     },
     "execution_count": 46,
     "metadata": {},
     "output_type": "execute_result"
    }
   ],
   "source": []
  },
  {
   "cell_type": "markdown",
   "metadata": {},
   "source": [
    "### Model"
   ]
  },
  {
   "cell_type": "code",
   "execution_count": null,
   "metadata": {},
   "outputs": [],
   "source": []
  }
 ],
 "metadata": {
  "kernelspec": {
   "display_name": "Python 3",
   "language": "python",
   "name": "python3"
  },
  "language_info": {
   "codemirror_mode": {
    "name": "ipython",
    "version": 3
   },
   "file_extension": ".py",
   "mimetype": "text/x-python",
   "name": "python",
   "nbconvert_exporter": "python",
   "pygments_lexer": "ipython3",
   "version": "3.8.5"
  }
 },
 "nbformat": 4,
 "nbformat_minor": 4
}
